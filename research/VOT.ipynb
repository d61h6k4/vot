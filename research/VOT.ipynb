{
  "nbformat": 4,
  "nbformat_minor": 0,
  "metadata": {
    "colab": {
      "name": "VOT.ipynb",
      "provenance": [],
      "include_colab_link": true
    },
    "kernelspec": {
      "name": "python3",
      "display_name": "Python 3"
    }
  },
  "cells": [
    {
      "cell_type": "markdown",
      "metadata": {
        "id": "view-in-github",
        "colab_type": "text"
      },
      "source": [
        "<a href=\"https://colab.research.google.com/github/d61h6k4/vot/blob/master/research/VOT.ipynb\" target=\"_parent\"><img src=\"https://colab.research.google.com/assets/colab-badge.svg\" alt=\"Open In Colab\"/></a>"
      ]
    },
    {
      "cell_type": "markdown",
      "metadata": {
        "id": "dE-ZR5dZ15Pp",
        "colab_type": "text"
      },
      "source": [
        "# VOT - Visual object tracking\n",
        "\n",
        "## Introduction\n",
        "[Introduction to Motion Estimation with Optical Flow](https://nanonets.com/blog/optical-flow/)\n",
        "\n",
        "Introduction blog post where you can find some definition of optical flow and \n",
        "types of optical flows (dense and sparse). Here you cand find some classical algorithm for solve this problems with open cv.\n",
        "\n",
        "\n",
        "[DL for Optical Flow](https://habr.com/ru/company/ods/blog/446726/) (in russian)\n",
        "\n",
        "Blog post from ODS with history of the problem and examles of algorithms with short description. Here I read that classical approach to this problem is better than DL one.\n",
        "\n",
        "[Optical Flow (GPU)](https://www.compression.ru/video/seminar/slides/2008_OpticalFlowOnGPU.pdf) (in russian)\n",
        "\n",
        "Slides where collected different classical computer vision algos. Here I found that best one is \"Phase-based method\".\n",
        "\n",
        "[Real time phase-based Optical Flow on the GPU](https://gbiomed.kuleuven.be/english/research/50000666/50000669/50488669/neuro_research/neuro_research_mvanhulle/comp_pdf/GPU.pdf)\n",
        "\n",
        "48 FPS for 640x512 images\n",
        "\n",
        "\n",
        "[Benchmarks](https://github.com/foolwood/benchmark_results)\n",
        "\n",
        "Repository where collected papers about VOT.\n",
        "Here you can find some tree of differrent algos.\n",
        "\n",
        "First recommended paper is [VOT2019](http://openaccess.thecvf.com/content_ICCVW_2019/papers/VOT/Kristan_The_Seventh_Visual_Object_Tracking_VOT2019_Challenge_Results_ICCVW_2019_paper.pdf)\n",
        "Here you can find information about VOT challenge, that means *dataset*, *metrics* and *soltions*\n",
        "\n",
        "[Fast Online Object Tracking and Segmentation: A Unifying Approach](http://www.robots.ox.ac.uk/~qwang/SiamMask/)\n",
        "\n",
        "35 FPS and with tracking you get real-time segmentation.\n",
        "\n",
        "You can find that in VOT2019-RT (real time) won SiamMargin, I didn't find their paper but from slides I think SiamMargin is modifed SiamRPN++\n",
        "\n",
        "SiamMargin, SiamRPN++ was made by research from SenseTime. I found his repo with all algos https://github.com/STVIR/pysot\n",
        "\n",
        "\n",
        "## Implementation\n",
        "Many papers implemented on Python and when it DL part it's ok, cause we have framework which can convert DAG in efficient program (e.g. Tensorflow serving)\n",
        "but what we can do with preprocessing.\n",
        "\n",
        "I found Google's project [MediaPipe](https://mediapipe.readthedocs.io/en/latest/index.html), here you can find how they use ffmpeg and other stuff.\n",
        "\n",
        "\n"
      ]
    },
    {
      "cell_type": "code",
      "metadata": {
        "id": "AEDfloAF0y4m",
        "colab_type": "code",
        "colab": {}
      },
      "source": [
        "### "
      ],
      "execution_count": 0,
      "outputs": []
    }
  ]
}